{
 "cells": [
  {
   "cell_type": "code",
   "execution_count": null,
   "metadata": {},
   "outputs": [],
   "source": [
    "import datetime\n",
    "import pathlib\n",
    "import pandas as pd\n",
    "import pandas.testing as tm\n",
    "import pydantic\n",
    "from pydantic import ValidationError\n",
    "import numpy as np\n",
    "\n",
    "from waipawama import domain_accounting, utils"
   ]
  },
  {
   "cell_type": "markdown",
   "metadata": {},
   "source": [
    "## Learning\n",
    "- Problems will arise with type conversions\n",
    "- especially np.nan and None is hard\n",
    "- How can we make it easier?\n",
    "\n",
    "## Good things:\n",
    "- pydantic has more datatypes -> better for the domain\n",
    "- pydantic models can be rich, besides data defintions\n",
    "- \\+ the stuff we already know\n",
    "\n",
    "Be smart of what we dont do.\n",
    "\n",
    "## First Solution for np.nan:\n",
    "You need a smart domain driven nan filling strategy:\n",
    "- floats -> np.nan (no change)\n",
    "- categorial ints -> 0 (maybe)\n",
    "- strings -> None\n",
    "- dates -> None\n",
    "\n",
    "Or you make your own pydantic data types"
   ]
  },
  {
   "cell_type": "markdown",
   "metadata": {},
   "source": [
    "### Import domain model and template"
   ]
  },
  {
   "cell_type": "code",
   "execution_count": null,
   "metadata": {},
   "outputs": [],
   "source": [
    "# Pydantic Data Model\n",
    "model_accounting = domain_accounting.Accounting"
   ]
  },
  {
   "cell_type": "code",
   "execution_count": null,
   "metadata": {},
   "outputs": [],
   "source": [
    "# Print Schema to Json\n",
    "p = pathlib.Path('./exmple_schema.json')\n",
    "p.write_text(domain_accounting.Accounting.schema_json(by_alias=False, indent=2))"
   ]
  },
  {
   "cell_type": "code",
   "execution_count": null,
   "metadata": {},
   "outputs": [],
   "source": [
    "domain_accounting.Accounting.schema_json(indent=2)"
   ]
  },
  {
   "cell_type": "markdown",
   "metadata": {},
   "source": [
    "### Properties of a Data Model object"
   ]
  },
  {
   "cell_type": "code",
   "execution_count": null,
   "metadata": {},
   "outputs": [],
   "source": [
    "# If you print this object and you have required fields\n",
    "# without defaults it will give a validation error.\n",
    "accounting = utils.DataTemplate(template=model_accounting)"
   ]
  },
  {
   "cell_type": "code",
   "execution_count": null,
   "metadata": {},
   "outputs": [],
   "source": [
    "try:\n",
    "    print(accounting)\n",
    "except ValidationError as e:\n",
    "    print(e)\n",
    "    print()\n",
    "    print('All template functions are executing our pydantic model.')"
   ]
  },
  {
   "cell_type": "code",
   "execution_count": null,
   "metadata": {},
   "outputs": [],
   "source": []
  },
  {
   "cell_type": "markdown",
   "metadata": {},
   "source": [
    "## Basic round trip python datatype to pandas DataFrame\n",
    "\n",
    "- practically this never works\n",
    "  because pandas is doing parsing"
   ]
  },
  {
   "cell_type": "code",
   "execution_count": null,
   "metadata": {},
   "outputs": [],
   "source": [
    "# List[dict]\n",
    "data1 = [\n",
    "     {'Belegdat.': '2018-09-30',\n",
    "     'USt Text': np.nan,\n",
    "     'BetragEUR': 1.06,\n",
    "     'Belegnr.': 'DB315',\n",
    "     'Jour. Dat.': '2018-10-09',\n",
    "     'Sollkto': 1800,\n",
    "     'Habenkto': 3631,\n",
    "     'Status': np.nan,\n",
    "     'Buchungstext': 'example 1',\n",
    "     'Gegenkto': 1800,\n",
    "     'USt %': 0,\n",
    "     'USt Kto': 0},\n",
    "    {'Belegdat.': '2018-09-30',\n",
    "     'USt Text': None,\n",
    "     'BetragEUR': np.nan,\n",
    "     'Belegnr.': 'DB315',\n",
    "     'Jour. Dat.': '2018-10-09',\n",
    "     'Sollkto': 1800,\n",
    "     'Habenkto': 3631,\n",
    "     'Status': None,\n",
    "     'Buchungstext': 'example 2',\n",
    "     'Gegenkto': 5923,\n",
    "     'USt %': 0,\n",
    "     'USt Kto': 0}]"
   ]
  },
  {
   "cell_type": "code",
   "execution_count": null,
   "metadata": {},
   "outputs": [],
   "source": [
    "# List[dict] -> pd.DataFrame\n",
    "df1 = pd.DataFrame(data1)\n",
    "df1"
   ]
  },
  {
   "cell_type": "code",
   "execution_count": null,
   "metadata": {},
   "outputs": [],
   "source": [
    "df_test = df1.fillna(value='i', downcast='infer')"
   ]
  },
  {
   "cell_type": "code",
   "execution_count": null,
   "metadata": {},
   "outputs": [],
   "source": [
    "df1.dtypes"
   ]
  },
  {
   "cell_type": "code",
   "execution_count": null,
   "metadata": {},
   "outputs": [],
   "source": [
    "df_test.dtypes"
   ]
  },
  {
   "cell_type": "code",
   "execution_count": null,
   "metadata": {},
   "outputs": [],
   "source": [
    "# pd.DataFrame -> List[dict]\n",
    "data2 = df1.to_dict('records')"
   ]
  },
  {
   "cell_type": "code",
   "execution_count": null,
   "metadata": {},
   "outputs": [],
   "source": [
    "# the diff between data1 and data2 is only None -> np.nan\n",
    "# potentially much more, but pydantic is build with that in mind:\n",
    "# pydantic does parsing over validating\n",
    "data1[1].items() ^ data2[1].items()"
   ]
  },
  {
   "cell_type": "markdown",
   "metadata": {},
   "source": [
    "## Round trip with our model\n",
    "\n",
    "- this is more likely to work because pydantic is parsing for a typed output"
   ]
  },
  {
   "cell_type": "code",
   "execution_count": null,
   "metadata": {},
   "outputs": [],
   "source": [
    "accounting = utils.DataTemplate(template=model_accounting, by_alias=True)\n",
    "\n",
    "df_model = accounting.dataframe(data1)\n",
    "#df_model.BetragEUR = df_model.BetragEUR*2"
   ]
  },
  {
   "cell_type": "code",
   "execution_count": null,
   "metadata": {},
   "outputs": [],
   "source": [
    "# those tranforms are very much needed, otherwise its a mess.\n",
    "# Also we are able to define in pydantic datetime.date,\n",
    "# which is the right domain specification.\n",
    "df_model['Belegdat.'] = pd.to_datetime(df_model['Belegdat.'])\n",
    "df_model['Jour. Dat.'] = pd.to_datetime(df_model['Jour. Dat.'])\n",
    "\n",
    "df1['Belegdat.'] = pd.to_datetime(df1['Belegdat.'])\n",
    "df1['Jour. Dat.'] = pd.to_datetime(df1['Jour. Dat.'])"
   ]
  },
  {
   "cell_type": "code",
   "execution_count": null,
   "metadata": {},
   "outputs": [],
   "source": [
    "# see pandas docs for comparing dataframes\n",
    "tm.assert_frame_equal(df1, df_model, check_dtype=False)"
   ]
  },
  {
   "cell_type": "code",
   "execution_count": null,
   "metadata": {},
   "outputs": [],
   "source": [
    "df1.to_dict('records')"
   ]
  },
  {
   "cell_type": "code",
   "execution_count": null,
   "metadata": {},
   "outputs": [],
   "source": [
    "df_model.to_dict('records')"
   ]
  },
  {
   "cell_type": "code",
   "execution_count": null,
   "metadata": {},
   "outputs": [],
   "source": []
  },
  {
   "cell_type": "code",
   "execution_count": null,
   "metadata": {},
   "outputs": [],
   "source": []
  },
  {
   "cell_type": "code",
   "execution_count": null,
   "metadata": {},
   "outputs": [],
   "source": []
  },
  {
   "cell_type": "code",
   "execution_count": null,
   "metadata": {},
   "outputs": [],
   "source": []
  },
  {
   "cell_type": "code",
   "execution_count": null,
   "metadata": {},
   "outputs": [],
   "source": []
  }
 ],
 "metadata": {
  "kernelspec": {
   "display_name": "Python 3.8.5 64-bit",
   "language": "python",
   "name": "python38564bitc06bce3f2a5344b8a5796e21d511f5ba"
  },
  "language_info": {
   "codemirror_mode": {
    "name": "ipython",
    "version": 3
   },
   "file_extension": ".py",
   "mimetype": "text/x-python",
   "name": "python",
   "nbconvert_exporter": "python",
   "pygments_lexer": "ipython3",
   "version": "3.8.5"
  }
 },
 "nbformat": 4,
 "nbformat_minor": 4
}
