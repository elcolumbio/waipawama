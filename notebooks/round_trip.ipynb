{
 "cells": [
  {
   "cell_type": "code",
   "execution_count": 1,
   "metadata": {},
   "outputs": [],
   "source": [
    "import datetime\n",
    "import pandas as pd\n",
    "import pandas.testing as tm\n",
    "import pydantic\n",
    "from pydantic import ValidationError\n",
    "import numpy as np\n",
    "\n",
    "from waipawama import domain_accounting, utils"
   ]
  },
  {
   "cell_type": "markdown",
   "metadata": {},
   "source": [
    "## Learning\n",
    "- Problems will arise with type conversions\n",
    "- especially np.nan and None is hard\n",
    "- How can we make it easier?\n",
    "\n",
    "Good things:\n",
    "- pydantic has more datatypes -> better for the domain\n",
    "- pydantic models can be rich, besides data defintions\n",
    "- \\+ the stuff we already know\n",
    "\n",
    "Be smart of what we dont do."
   ]
  },
  {
   "cell_type": "markdown",
   "metadata": {},
   "source": [
    "### Import domain model and template"
   ]
  },
  {
   "cell_type": "code",
   "execution_count": 2,
   "metadata": {},
   "outputs": [],
   "source": [
    "# Pydantic Data Model\n",
    "model_accounting = domain_accounting.Accounting"
   ]
  },
  {
   "cell_type": "markdown",
   "metadata": {},
   "source": [
    "### Properties of a Data Model object"
   ]
  },
  {
   "cell_type": "code",
   "execution_count": 3,
   "metadata": {},
   "outputs": [],
   "source": [
    "# If you print this object and you have required fields\n",
    "# without defaults it will give a validation error.\n",
    "accounting = utils.DataTemplate(template=model_accounting)"
   ]
  },
  {
   "cell_type": "code",
   "execution_count": 4,
   "metadata": {},
   "outputs": [
    {
     "name": "stdout",
     "output_type": "stream",
     "text": [
      "8 validation errors for Accounting\n",
      "Belegdat.\n",
      "  field required (type=value_error.missing)\n",
      "BetragEUR\n",
      "  field required (type=value_error.missing)\n",
      "Belegnr.\n",
      "  field required (type=value_error.missing)\n",
      "Jour. Dat.\n",
      "  field required (type=value_error.missing)\n",
      "Sollkto\n",
      "  field required (type=value_error.missing)\n",
      "Habenkto\n",
      "  field required (type=value_error.missing)\n",
      "Buchungstext\n",
      "  field required (type=value_error.missing)\n",
      "Gegenkto\n",
      "  field required (type=value_error.missing)\n",
      "\n",
      "All template functions are executing our pydantic model.\n"
     ]
    }
   ],
   "source": [
    "try:\n",
    "    print(accounting)\n",
    "except ValidationError as e:\n",
    "    print(e)\n",
    "    print()\n",
    "    print('All template functions are executing our pydantic model.')"
   ]
  },
  {
   "cell_type": "code",
   "execution_count": null,
   "metadata": {},
   "outputs": [],
   "source": []
  },
  {
   "cell_type": "markdown",
   "metadata": {},
   "source": [
    "## Basic round trip python datatype to pandas DataFrame\n",
    "\n",
    "- practically this never works\n",
    "  because pandas is doing parsing"
   ]
  },
  {
   "cell_type": "code",
   "execution_count": 27,
   "metadata": {},
   "outputs": [],
   "source": [
    "# List[dict]\n",
    "data1 = [\n",
    "     {'Belegdat.': '2018-09-30',\n",
    "     'USt Text': None,\n",
    "     'BetragEUR': 1.06,\n",
    "     'Belegnr.': 'DB315',\n",
    "     'Jour. Dat.': '2018-10-09',\n",
    "     'Sollkto': 1800,\n",
    "     'Habenkto': 3631,\n",
    "     'Status': None,\n",
    "     'Buchungstext': 'example 1',\n",
    "     'Gegenkto': 1800,\n",
    "     'USt %': 0,\n",
    "     'USt Kto': 0},\n",
    "    {'Belegdat.': '2018-09-30',\n",
    "     'USt Text': None,\n",
    "     'BetragEUR': 1.06,\n",
    "     'Belegnr.': 'DB315',\n",
    "     'Jour. Dat.': '2018-10-09',\n",
    "     'Sollkto': 1800,\n",
    "     'Habenkto': 3631,\n",
    "     'Status': None,\n",
    "     'Buchungstext': 'example 2',\n",
    "     'Gegenkto': 5923,\n",
    "     'USt %': 0,\n",
    "     'USt Kto': 0}]"
   ]
  },
  {
   "cell_type": "code",
   "execution_count": 30,
   "metadata": {},
   "outputs": [
    {
     "data": {
      "text/html": [
       "<div>\n",
       "<style scoped>\n",
       "    .dataframe tbody tr th:only-of-type {\n",
       "        vertical-align: middle;\n",
       "    }\n",
       "\n",
       "    .dataframe tbody tr th {\n",
       "        vertical-align: top;\n",
       "    }\n",
       "\n",
       "    .dataframe thead th {\n",
       "        text-align: right;\n",
       "    }\n",
       "</style>\n",
       "<table border=\"1\" class=\"dataframe\">\n",
       "  <thead>\n",
       "    <tr style=\"text-align: right;\">\n",
       "      <th></th>\n",
       "      <th>Belegdat.</th>\n",
       "      <th>USt Text</th>\n",
       "      <th>BetragEUR</th>\n",
       "      <th>Belegnr.</th>\n",
       "      <th>Jour. Dat.</th>\n",
       "      <th>Sollkto</th>\n",
       "      <th>Habenkto</th>\n",
       "      <th>Status</th>\n",
       "      <th>Buchungstext</th>\n",
       "      <th>Gegenkto</th>\n",
       "      <th>USt %</th>\n",
       "      <th>USt Kto</th>\n",
       "    </tr>\n",
       "  </thead>\n",
       "  <tbody>\n",
       "    <tr>\n",
       "      <th>0</th>\n",
       "      <td>2018-09-30</td>\n",
       "      <td>None</td>\n",
       "      <td>1.06</td>\n",
       "      <td>DB315</td>\n",
       "      <td>2018-10-09</td>\n",
       "      <td>1800</td>\n",
       "      <td>3631</td>\n",
       "      <td>None</td>\n",
       "      <td>example 1</td>\n",
       "      <td>1800</td>\n",
       "      <td>0</td>\n",
       "      <td>0</td>\n",
       "    </tr>\n",
       "    <tr>\n",
       "      <th>1</th>\n",
       "      <td>2018-09-30</td>\n",
       "      <td>None</td>\n",
       "      <td>1.06</td>\n",
       "      <td>DB315</td>\n",
       "      <td>2018-10-09</td>\n",
       "      <td>1800</td>\n",
       "      <td>3631</td>\n",
       "      <td>None</td>\n",
       "      <td>example 2</td>\n",
       "      <td>5923</td>\n",
       "      <td>0</td>\n",
       "      <td>0</td>\n",
       "    </tr>\n",
       "  </tbody>\n",
       "</table>\n",
       "</div>"
      ],
      "text/plain": [
       "    Belegdat. USt Text  BetragEUR Belegnr.  Jour. Dat.  Sollkto  Habenkto  \\\n",
       "0  2018-09-30     None       1.06    DB315  2018-10-09     1800      3631   \n",
       "1  2018-09-30     None       1.06    DB315  2018-10-09     1800      3631   \n",
       "\n",
       "  Status Buchungstext  Gegenkto  USt %  USt Kto  \n",
       "0   None    example 1      1800      0        0  \n",
       "1   None    example 2      5923      0        0  "
      ]
     },
     "execution_count": 30,
     "metadata": {},
     "output_type": "execute_result"
    }
   ],
   "source": [
    "# List[dict] -> pd.DataFrame\n",
    "df1 = pd.DataFrame(data1)\n",
    "df1"
   ]
  },
  {
   "cell_type": "code",
   "execution_count": 32,
   "metadata": {},
   "outputs": [],
   "source": [
    "# pd.DataFrame -> List[dict]\n",
    "data2 = df1.to_dict('records')"
   ]
  },
  {
   "cell_type": "code",
   "execution_count": 33,
   "metadata": {},
   "outputs": [
    {
     "data": {
      "text/plain": [
       "set()"
      ]
     },
     "execution_count": 33,
     "metadata": {},
     "output_type": "execute_result"
    }
   ],
   "source": [
    "# the diff between data1 and data2 is only None -> np.nan\n",
    "# potentially much more, but pydantic is build with that in mind:\n",
    "# pydantic does parsing over validating\n",
    "data1[1].items() ^ data2[1].items()"
   ]
  },
  {
   "cell_type": "markdown",
   "metadata": {},
   "source": [
    "## Round trip with our model\n",
    "\n",
    "- this is more likely to work because pydantic is parsing for a typed output"
   ]
  },
  {
   "cell_type": "code",
   "execution_count": 37,
   "metadata": {},
   "outputs": [],
   "source": [
    "accounting = utils.DataTemplate(template=model_accounting, by_alias=True)\n",
    "\n",
    "df_model = accounting.dataframe(data1)\n",
    "#df_model.BetragEUR = df_model.BetragEUR*2"
   ]
  },
  {
   "cell_type": "code",
   "execution_count": 38,
   "metadata": {},
   "outputs": [],
   "source": [
    "# those tranforms are very much needed, otherwise its a mess.\n",
    "# Also we are able to define in pydantic datetime.date,\n",
    "# which is the right domain specification.\n",
    "df_model['Belegdat.'] = pd.to_datetime(df_model['Belegdat.'])\n",
    "df_model['Jour. Dat.'] = pd.to_datetime(df_model['Jour. Dat.'])\n",
    "\n",
    "df1['Belegdat.'] = pd.to_datetime(df1['Belegdat.'])\n",
    "df1['Jour. Dat.'] = pd.to_datetime(df1['Jour. Dat.'])"
   ]
  },
  {
   "cell_type": "code",
   "execution_count": 39,
   "metadata": {},
   "outputs": [],
   "source": [
    "# see pandas docs for comparing dataframes\n",
    "tm.assert_frame_equal(df1, df_model, check_dtype=False)"
   ]
  },
  {
   "cell_type": "code",
   "execution_count": 40,
   "metadata": {},
   "outputs": [
    {
     "data": {
      "text/plain": [
       "[{'Belegdat.': Timestamp('2018-09-30 00:00:00'),\n",
       "  'USt Text': None,\n",
       "  'BetragEUR': 1.06,\n",
       "  'Belegnr.': 'DB315',\n",
       "  'Jour. Dat.': Timestamp('2018-10-09 00:00:00'),\n",
       "  'Sollkto': 1800,\n",
       "  'Habenkto': 3631,\n",
       "  'Status': None,\n",
       "  'Buchungstext': 'example 1',\n",
       "  'Gegenkto': 1800,\n",
       "  'USt %': 0,\n",
       "  'USt Kto': 0},\n",
       " {'Belegdat.': Timestamp('2018-09-30 00:00:00'),\n",
       "  'USt Text': None,\n",
       "  'BetragEUR': 1.06,\n",
       "  'Belegnr.': 'DB315',\n",
       "  'Jour. Dat.': Timestamp('2018-10-09 00:00:00'),\n",
       "  'Sollkto': 1800,\n",
       "  'Habenkto': 3631,\n",
       "  'Status': None,\n",
       "  'Buchungstext': 'example 2',\n",
       "  'Gegenkto': 5923,\n",
       "  'USt %': 0,\n",
       "  'USt Kto': 0}]"
      ]
     },
     "execution_count": 40,
     "metadata": {},
     "output_type": "execute_result"
    }
   ],
   "source": [
    "df1.to_dict('records')"
   ]
  },
  {
   "cell_type": "code",
   "execution_count": 41,
   "metadata": {},
   "outputs": [
    {
     "data": {
      "text/plain": [
       "[{'Belegdat.': Timestamp('2018-09-30 00:00:00'),\n",
       "  'USt Text': None,\n",
       "  'BetragEUR': 1.06,\n",
       "  'Belegnr.': 'DB315',\n",
       "  'Jour. Dat.': Timestamp('2018-10-09 00:00:00'),\n",
       "  'Sollkto': 1800,\n",
       "  'Habenkto': 3631,\n",
       "  'Status': None,\n",
       "  'Buchungstext': 'example 1',\n",
       "  'Gegenkto': 1800,\n",
       "  'USt %': 0,\n",
       "  'USt Kto': 0},\n",
       " {'Belegdat.': Timestamp('2018-09-30 00:00:00'),\n",
       "  'USt Text': None,\n",
       "  'BetragEUR': 1.06,\n",
       "  'Belegnr.': 'DB315',\n",
       "  'Jour. Dat.': Timestamp('2018-10-09 00:00:00'),\n",
       "  'Sollkto': 1800,\n",
       "  'Habenkto': 3631,\n",
       "  'Status': None,\n",
       "  'Buchungstext': 'example 2',\n",
       "  'Gegenkto': 5923,\n",
       "  'USt %': 0,\n",
       "  'USt Kto': 0}]"
      ]
     },
     "execution_count": 41,
     "metadata": {},
     "output_type": "execute_result"
    }
   ],
   "source": [
    "df_model.to_dict('records')"
   ]
  },
  {
   "cell_type": "code",
   "execution_count": null,
   "metadata": {},
   "outputs": [],
   "source": []
  },
  {
   "cell_type": "code",
   "execution_count": null,
   "metadata": {},
   "outputs": [],
   "source": []
  },
  {
   "cell_type": "code",
   "execution_count": null,
   "metadata": {},
   "outputs": [],
   "source": []
  },
  {
   "cell_type": "code",
   "execution_count": null,
   "metadata": {},
   "outputs": [],
   "source": []
  },
  {
   "cell_type": "code",
   "execution_count": null,
   "metadata": {},
   "outputs": [],
   "source": []
  }
 ],
 "metadata": {
  "kernelspec": {
   "display_name": "Python 3.8.5 64-bit",
   "language": "python",
   "name": "python38564bitc06bce3f2a5344b8a5796e21d511f5ba"
  },
  "language_info": {
   "codemirror_mode": {
    "name": "ipython",
    "version": 3
   },
   "file_extension": ".py",
   "mimetype": "text/x-python",
   "name": "python",
   "nbconvert_exporter": "python",
   "pygments_lexer": "ipython3",
   "version": "3.8.5"
  }
 },
 "nbformat": 4,
 "nbformat_minor": 4
}
